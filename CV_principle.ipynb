{
 "cells": [
  {
   "cell_type": "code",
   "execution_count": 1,
   "metadata": {},
   "outputs": [],
   "source": [
    "import os\n",
    "import numpy as np \n",
    "import pandas as pd\n",
    "from scipy import stats, signal, io\n",
    "import mne\n",
    "from mne import create_info, EpochsArray\n",
    "from mne.time_frequency import tfr_morlet\n",
    "from bids import BIDSLayout\n",
    "import mne_bids\n",
    "import scipy\n",
    "#import settings\n",
    "import json\n",
    "#from coordinates_io import BIDS_coord\n",
    "from sklearn import linear_model, metrics\n",
    "import multiprocessing\n",
    "from sklearn.model_selection import cross_val_score\n",
    "from sklearn import ensemble, model_selection\n",
    "from matplotlib import pyplot as plt\n",
    "import matplotlib \n",
    "from sklearn import ensemble, neural_network, neighbors"
   ]
  },
  {
   "cell_type": "code",
   "execution_count": 2,
   "metadata": {},
   "outputs": [],
   "source": [
    "out_path = '/home/icn/Documents/raw_out/RF_32_4/'\n",
    "BIDS_path = '/home/icn/Documents/BIDS/'"
   ]
  },
  {
   "cell_type": "code",
   "execution_count": 3,
   "metadata": {},
   "outputs": [],
   "source": [
    "subject_exclude = ['002', '003', '011', '012', '015', '016']\n",
    "subject_tf_usage = ['000', '001', '004', '005', '006', '007', '008', '009', '010', '013', '014', '016']\n",
    "#002 - DBS4011 - no locaization possible\n",
    "#003 - DBS4020 - LEFT due to signal quality\n",
    "#011 - DBS4037 - STN was not recorded\n",
    "#012 - DBS4030 - GPi not STN \n",
    "#015 - DBS4065 - LEFT due to signal quality"
   ]
  },
  {
   "cell_type": "code",
   "execution_count": 4,
   "metadata": {},
   "outputs": [],
   "source": [
    "# setup plot where STN and ECOG is visible \n",
    "faces = io.loadmat('faces.mat')\n",
    "Vertices = io.loadmat('Vertices.mat')\n",
    "grid = io.loadmat('grid.mat')['grid']\n",
    "stn_surf = io.loadmat('STN_surf.mat')\n",
    "x_ = stn_surf['vertices'][::2,0]\n",
    "y_ = stn_surf['vertices'][::2,1]\n",
    "x_ecog = Vertices['Vertices'][::1,0]\n",
    "y_ecog = Vertices['Vertices'][::1,1]\n",
    "x_stn = stn_surf['vertices'][::1,0]\n",
    "y_stn = stn_surf['vertices'][::1,1]"
   ]
  },
  {
   "cell_type": "code",
   "execution_count": 5,
   "metadata": {},
   "outputs": [],
   "source": [
    "def get_x_y_c(dict_ch, ind_, Con=True, return_z=False):\n",
    "    \n",
    "    channels = list(dict_ch.keys())\n",
    "    x_choord = np.zeros(len(ind_))\n",
    "    y_choord = np.zeros(len(ind_))\n",
    "    z_choord = np.zeros(len(ind_))\n",
    "    c_ = np.zeros(len(ind_))\n",
    "    for idx, ind_ch in enumerate(ind_): \n",
    "        choord = np.squeeze(np.array(dict_ch[channels[ind_ch]][\"choords\"]))\n",
    "        x_choord[idx] = choord[0]\n",
    "        y_choord[idx] = choord[1]\n",
    "        z_choord[idx] = choord[2]\n",
    "        \n",
    "        #wähle den contralateralen channel aus\n",
    "        mov_channels = dict_ch[channels[ind_ch]]['mov_ch']\n",
    "\n",
    "        mov_idx = get_movement_idx(channels[ind_ch], mov_channels, Con)\n",
    "\n",
    "        c_[idx] = dict_ch[channels[ind_ch]][\"res_\"+mov_channels[mov_idx]][\"R2\"]\n",
    "    if return_z is True:\n",
    "        return x_choord, y_choord, z_choord, c_\n",
    "    return x_choord, y_choord, c_"
   ]
  },
  {
   "cell_type": "code",
   "execution_count": 6,
   "metadata": {},
   "outputs": [],
   "source": [
    "subject_id = []\n",
    "for patient_test in range(17):\n",
    "    if patient_test < 10:\n",
    "        subject_id.append(str('00') + str(patient_test))\n",
    "    else:\n",
    "        subject_id.append(str('0') + str(patient_test))\n"
   ]
  },
  {
   "cell_type": "code",
   "execution_count": 7,
   "metadata": {},
   "outputs": [],
   "source": [
    "def get_movement_idx(ch, mov_channels, Con=True):\n",
    "    mov_idx = 0\n",
    "    if len(mov_channels) > 1:    \n",
    "        if Con is True:\n",
    "            if (\"RIGHT\" in ch and \"LEFT\" in mov_channels[0]) or \\\n",
    "                (\"LEFT\" in ch and \"RIGHT\" in mov_channels[0]):\n",
    "                mov_idx = 0\n",
    "            if (\"RIGHT\" in ch and \"LEFT\" in mov_channels[1]) or \\\n",
    "                (\"LEFT\" in ch and \"RIGHT\" in mov_channels[1]):\n",
    "                mov_idx = 1\n",
    "        else:\n",
    "            if (\"RIGHT\" in ch and \"RIGHT\" in mov_channels[0]) or \\\n",
    "                (\"LEFT\" in ch and \"LEFT\" in mov_channels[0]):\n",
    "                mov_idx = 0\n",
    "            if (\"RIGHT\" in ch and \"RIGHT\" in mov_channels[1]) or \\\n",
    "                (\"LEFT\" in ch and \"LEFT\" in mov_channels[1]):\n",
    "                mov_idx = 1\n",
    "    return mov_idx"
   ]
  },
  {
   "cell_type": "markdown",
   "metadata": {},
   "source": [
    "### get the data"
   ]
  },
  {
   "cell_type": "code",
   "execution_count": 8,
   "metadata": {},
   "outputs": [],
   "source": [
    "subject_id_ = '000'"
   ]
  },
  {
   "cell_type": "code",
   "execution_count": 9,
   "metadata": {},
   "outputs": [],
   "source": [
    "with open(out_path+'sub_'+subject_id_+'_patient_concat.json', 'r') as fp:\n",
    "        dict_ch = json.load(fp)"
   ]
  },
  {
   "cell_type": "code",
   "execution_count": 10,
   "metadata": {},
   "outputs": [],
   "source": [
    "channels = list(dict_ch.keys())"
   ]
  },
  {
   "cell_type": "code",
   "execution_count": 11,
   "metadata": {},
   "outputs": [
    {
     "data": {
      "text/plain": [
       "'ECOG_RIGHT_0'"
      ]
     },
     "execution_count": 11,
     "metadata": {},
     "output_type": "execute_result"
    }
   ],
   "source": [
    "channels[0]"
   ]
  },
  {
   "cell_type": "code",
   "execution_count": 12,
   "metadata": {},
   "outputs": [],
   "source": [
    "for sub_idx, subject_id_ in enumerate(subject_id):    \n",
    "    if subject_id_ in subject_exclude: \n",
    "            continue\n",
    "    with open(out_path+'sub_'+subject_id_+'_patient_concat.json', 'r') as fp:\n",
    "        dict_ch = json.load(fp)\n"
   ]
  },
  {
   "cell_type": "code",
   "execution_count": 13,
   "metadata": {},
   "outputs": [
    {
     "data": {
      "text/plain": [
       "dict_keys(['data', 'true_movements', 'mov_ch', 'choords', 'res_MOV_RIGHT', 'res_MOV_LEFT'])"
      ]
     },
     "execution_count": 13,
     "metadata": {},
     "output_type": "execute_result"
    }
   ],
   "source": [
    "dict_ch[channels[0]].keys()"
   ]
  },
  {
   "cell_type": "code",
   "execution_count": 14,
   "metadata": {},
   "outputs": [
    {
     "data": {
      "text/plain": [
       "(8, 7380)"
      ]
     },
     "execution_count": 14,
     "metadata": {},
     "output_type": "execute_result"
    }
   ],
   "source": [
    "np.array(dict_ch[channels[0]]['data']).shape"
   ]
  },
  {
   "cell_type": "code",
   "execution_count": 15,
   "metadata": {},
   "outputs": [
    {
     "data": {
      "text/plain": [
       "(2,)"
      ]
     },
     "execution_count": 15,
     "metadata": {},
     "output_type": "execute_result"
    }
   ],
   "source": [
    "np.array(dict_ch[channels[0]]['mov_ch']).shape"
   ]
  },
  {
   "cell_type": "code",
   "execution_count": 28,
   "metadata": {},
   "outputs": [
    {
     "data": {
      "text/plain": [
       "array({'R2': 0.40858242561094277}, dtype=object)"
      ]
     },
     "execution_count": 28,
     "metadata": {},
     "output_type": "execute_result"
    }
   ],
   "source": [
    "np.array(dict_ch[channels[0]]['res_MOV_RIGHT'])"
   ]
  },
  {
   "cell_type": "code",
   "execution_count": null,
   "metadata": {},
   "outputs": [],
   "source": []
  },
  {
   "cell_type": "code",
   "execution_count": null,
   "metadata": {},
   "outputs": [],
   "source": []
  },
  {
   "cell_type": "code",
   "execution_count": null,
   "metadata": {},
   "outputs": [],
   "source": []
  },
  {
   "cell_type": "code",
   "execution_count": null,
   "metadata": {},
   "outputs": [],
   "source": []
  },
  {
   "cell_type": "code",
   "execution_count": 9,
   "metadata": {},
   "outputs": [
    {
     "ename": "NameError",
     "evalue": "name 'RandomForestRegressor' is not defined",
     "output_type": "error",
     "traceback": [
      "\u001b[0;31m---------------------------------------------------------------------------\u001b[0m",
      "\u001b[0;31mNameError\u001b[0m                                 Traceback (most recent call last)",
      "\u001b[0;32m<ipython-input-9-419ff1b894b5>\u001b[0m in \u001b[0;36m<module>\u001b[0;34m\u001b[0m\n\u001b[1;32m     10\u001b[0m     \u001b[0;34m'n_estimators'\u001b[0m\u001b[0;34m:\u001b[0m \u001b[0;34m[\u001b[0m\u001b[0;36m1\u001b[0m\u001b[0;34m,\u001b[0m \u001b[0;36m2\u001b[0m\u001b[0;34m,\u001b[0m \u001b[0;36m5\u001b[0m\u001b[0;34m,\u001b[0m \u001b[0;36m10\u001b[0m\u001b[0;34m,\u001b[0m \u001b[0;36m20\u001b[0m\u001b[0;34m,\u001b[0m \u001b[0;36m50\u001b[0m\u001b[0;34m,\u001b[0m \u001b[0;36m100\u001b[0m\u001b[0;34m,\u001b[0m \u001b[0;36m200\u001b[0m\u001b[0;34m,\u001b[0m \u001b[0;36m500\u001b[0m\u001b[0;34m,\u001b[0m \u001b[0;36m1000\u001b[0m\u001b[0;34m,\u001b[0m \u001b[0;36m2000\u001b[0m\u001b[0;34m]\u001b[0m\u001b[0;34m\u001b[0m\u001b[0;34m\u001b[0m\u001b[0m\n\u001b[1;32m     11\u001b[0m }# Create a based model\n\u001b[0;32m---> 12\u001b[0;31m \u001b[0mrf\u001b[0m \u001b[0;34m=\u001b[0m \u001b[0mRandomForestRegressor\u001b[0m\u001b[0;34m(\u001b[0m\u001b[0;34m)\u001b[0m\u001b[0;31m# Instantiate the grid search model\u001b[0m\u001b[0;34m\u001b[0m\u001b[0;34m\u001b[0m\u001b[0m\n\u001b[0m\u001b[1;32m     13\u001b[0m rand_search = RandomizedSearchCV(estimator = rf, param_distributions = param_grid, \n\u001b[1;32m     14\u001b[0m                           cv = 3, n_jobs = 62, verbose = 10, n_iter=100, scoring='neg_mean_absolute_error')\n",
      "\u001b[0;31mNameError\u001b[0m: name 'RandomForestRegressor' is not defined"
     ]
    }
   ],
   "source": [
    "from sklearn.model_selection import GridSearchCV# Create the parameter grid based on the results of random search \n",
    "from sklearn.model_selection import RandomizedSearchCV# Create the parameter grid based on the results of random search \n",
    "\n",
    "param_grid = {\n",
    "    'bootstrap': [True],\n",
    "    'max_depth': [1, 2, 5, 10, 20, 50, 100, 200, 500, 1000, None],\n",
    "    'max_features': [1,2,3,5, 11],\n",
    "    'min_samples_leaf': [1, 2, 4, 6],\n",
    "    'min_samples_split': [2, 8, 10, 12],\n",
    "    'n_estimators': [1, 2, 5, 10, 20, 50, 100, 200, 500, 1000, 2000]\n",
    "}# Create a based model\n",
    "rf = ensemble.RandomForestRegressor()# Instantiate the grid search model\n",
    "rand_search = RandomizedSearchCV(estimator = rf, param_distributions = param_grid, \n",
    "                          cv = 3, n_jobs = 62, verbose = 10, n_iter=100, scoring='neg_mean_absolute_error')"
   ]
  },
  {
   "cell_type": "code",
   "execution_count": null,
   "metadata": {},
   "outputs": [],
   "source": [
    "# Fit the grid search to the data\n",
    "rand_search.fit(X, y)"
   ]
  },
  {
   "cell_type": "code",
   "execution_count": null,
   "metadata": {},
   "outputs": [],
   "source": [
    "rand_search.best_estimator_"
   ]
  },
  {
   "cell_type": "code",
   "execution_count": null,
   "metadata": {},
   "outputs": [],
   "source": [
    "rand_search.best_estimator_"
   ]
  },
  {
   "cell_type": "code",
   "execution_count": null,
   "metadata": {},
   "outputs": [],
   "source": []
  }
 ],
 "metadata": {
  "kernelspec": {
   "display_name": "Python 3",
   "language": "python",
   "name": "python3"
  },
  "language_info": {
   "codemirror_mode": {
    "name": "ipython",
    "version": 3
   },
   "file_extension": ".py",
   "mimetype": "text/x-python",
   "name": "python",
   "nbconvert_exporter": "python",
   "pygments_lexer": "ipython3",
   "version": "3.7.6"
  }
 },
 "nbformat": 4,
 "nbformat_minor": 4
}
