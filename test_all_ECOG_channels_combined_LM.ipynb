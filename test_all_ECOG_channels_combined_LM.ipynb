{
 "cells": [
  {
   "cell_type": "code",
   "execution_count": 1,
   "metadata": {},
   "outputs": [],
   "source": [
    "import os\n",
    "import numpy as np \n",
    "import pandas as pd\n",
    "from scipy import stats, signal, io\n",
    "import mne\n",
    "from mne import create_info, EpochsArray\n",
    "from mne.time_frequency import tfr_morlet\n",
    "from bids import BIDSLayout\n",
    "import mne_bids\n",
    "import scipy\n",
    "#import settings\n",
    "import json\n",
    "#from coordinates_io import BIDS_coord\n",
    "from sklearn import linear_model, metrics\n",
    "import multiprocessing\n",
    "from sklearn.model_selection import cross_val_score\n",
    "from sklearn import ensemble, model_selection\n",
    "from matplotlib import pyplot as plt\n",
    "import matplotlib "
   ]
  },
  {
   "cell_type": "code",
   "execution_count": 2,
   "metadata": {},
   "outputs": [],
   "source": [
    "out_path = '/home/icn/Documents/raw_out/RF_32_4/'\n",
    "BIDS_path = '/home/icn/Documents/BIDS/'"
   ]
  },
  {
   "cell_type": "code",
   "execution_count": 3,
   "metadata": {},
   "outputs": [],
   "source": [
    "subject_exclude = ['002', '003', '011', '012', '015']\n",
    "subject_tf_usage = ['000', '001', '004', '005', '006', '007', '008', '009', '010', '013', '014', '016']\n",
    "#002 - DBS4011 - no locaization possible\n",
    "#003 - DBS4020 - LEFT due to signal quality\n",
    "#011 - DBS4037 - STN was not recorded\n",
    "#012 - DBS4030 - GPi not STN \n",
    "#015 - DBS4065 - LEFT due to signal quality"
   ]
  },
  {
   "cell_type": "code",
   "execution_count": 4,
   "metadata": {},
   "outputs": [],
   "source": [
    "subject_id = []\n",
    "for patient_test in range(17):\n",
    "    if patient_test < 10:\n",
    "        subject_id.append(str('00') + str(patient_test))\n",
    "    else:\n",
    "        subject_id.append(str('0') + str(patient_test))\n"
   ]
  },
  {
   "cell_type": "code",
   "execution_count": 5,
   "metadata": {},
   "outputs": [],
   "source": [
    "layout = BIDSLayout(BIDS_path)\n",
    "tsv_files = layout.get(extension='tsv', return_type='filename')\n",
    "vhdr_files = layout.get(extension='vhdr', return_type='filename')"
   ]
  },
  {
   "cell_type": "code",
   "execution_count": 6,
   "metadata": {},
   "outputs": [],
   "source": [
    "subject_id_ = '000'\n",
    "with open(out_path+'sub_'+subject_id_+'_patient_concat.json', 'r') as fp:\n",
    "    dict_ch = json.load(fp)"
   ]
  },
  {
   "cell_type": "code",
   "execution_count": 8,
   "metadata": {},
   "outputs": [
    {
     "data": {
      "text/plain": [
       "dict_keys(['ECOG_RIGHT_0', 'ECOG_RIGHT_1', 'ECOG_RIGHT_2', 'ECOG_RIGHT_3', 'ECOG_RIGHT_4', 'ECOG_RIGHT_5', 'STN_RIGHT_0', 'STN_RIGHT_1', 'STN_RIGHT_2', 'STN_RIGHT_3'])"
      ]
     },
     "execution_count": 8,
     "metadata": {},
     "output_type": "execute_result"
    }
   ],
   "source": [
    "dict_ch.keys()"
   ]
  },
  {
   "cell_type": "code",
   "execution_count": 23,
   "metadata": {},
   "outputs": [],
   "source": [
    "ECOG_ch = np.array([idx for idx, ch in enumerate(list(dict_ch.keys())) if ch.startswith('ECOG_') is True])"
   ]
  },
  {
   "cell_type": "code",
   "execution_count": 45,
   "metadata": {},
   "outputs": [],
   "source": [
    "channels = list(dict_ch.keys())"
   ]
  },
  {
   "cell_type": "code",
   "execution_count": 37,
   "metadata": {},
   "outputs": [],
   "source": []
  },
  {
   "cell_type": "code",
   "execution_count": 38,
   "metadata": {},
   "outputs": [
    {
     "data": {
      "text/plain": [
       "(48, 7570)"
      ]
     },
     "execution_count": 38,
     "metadata": {},
     "output_type": "execute_result"
    }
   ],
   "source": [
    "dat_combine.shape"
   ]
  },
  {
   "cell_type": "code",
   "execution_count": 77,
   "metadata": {},
   "outputs": [
    {
     "data": {
      "text/plain": [
       "'/home/icn/Documents/raw_out/RF_32_4/'"
      ]
     },
     "execution_count": 77,
     "metadata": {},
     "output_type": "execute_result"
    }
   ],
   "source": [
    "out_path"
   ]
  },
  {
   "cell_type": "code",
   "execution_count": 78,
   "metadata": {
    "scrolled": true
   },
   "outputs": [
    {
     "name": "stdout",
     "output_type": "stream",
     "text": [
      "000\n",
      "001\n"
     ]
    },
    {
     "ename": "ValueError",
     "evalue": "Found input variables with inconsistent numbers of samples: [11670, 10960]",
     "output_type": "error",
     "traceback": [
      "\u001b[0;31m---------------------------------------------------------------------------\u001b[0m",
      "\u001b[0;31mValueError\u001b[0m                                Traceback (most recent call last)",
      "\u001b[0;32m<ipython-input-78-fde98662e739>\u001b[0m in \u001b[0;36m<module>\u001b[0;34m\u001b[0m\n\u001b[1;32m     26\u001b[0m                \u001b[0;34m(\u001b[0m\u001b[0;34m'LEFT'\u001b[0m \u001b[0;32min\u001b[0m \u001b[0mmov_ch\u001b[0m\u001b[0;34m[\u001b[0m\u001b[0mmov_idx\u001b[0m\u001b[0;34m]\u001b[0m \u001b[0;32mand\u001b[0m \u001b[0;34m'LEFT'\u001b[0m \u001b[0;32min\u001b[0m \u001b[0mchannels\u001b[0m\u001b[0;34m[\u001b[0m\u001b[0mECOG_ch\u001b[0m\u001b[0;34m[\u001b[0m\u001b[0midx_ch\u001b[0m\u001b[0;34m]\u001b[0m\u001b[0;34m]\u001b[0m\u001b[0;34m)\u001b[0m\u001b[0;34m:\u001b[0m\u001b[0;34m\u001b[0m\u001b[0;34m\u001b[0m\u001b[0m\n\u001b[1;32m     27\u001b[0m                 ipsi_.append(np.mean(cross_val_score(linear_model.LinearRegression(), \\\n\u001b[0;32m---> 28\u001b[0;31m                                                      dat_combine.T, mov_[mov_idx,:], cv=5, scoring='r2', n_jobs=62)))\n\u001b[0m\u001b[1;32m     29\u001b[0m \u001b[0;34m\u001b[0m\u001b[0m\n\u001b[1;32m     30\u001b[0m             \u001b[0;32mif\u001b[0m \u001b[0;34m(\u001b[0m\u001b[0;34m'RIGHT'\u001b[0m \u001b[0;32min\u001b[0m \u001b[0mmov_ch\u001b[0m\u001b[0;34m[\u001b[0m\u001b[0mmov_idx\u001b[0m\u001b[0;34m]\u001b[0m \u001b[0;32mand\u001b[0m \u001b[0;34m'LEFT'\u001b[0m \u001b[0;32min\u001b[0m \u001b[0mchannels\u001b[0m\u001b[0;34m[\u001b[0m\u001b[0mECOG_ch\u001b[0m\u001b[0;34m[\u001b[0m\u001b[0midx_ch\u001b[0m\u001b[0;34m]\u001b[0m\u001b[0;34m]\u001b[0m\u001b[0;34m)\u001b[0m \u001b[0;32mor\u001b[0m\u001b[0;31m \u001b[0m\u001b[0;31m\\\u001b[0m\u001b[0;34m\u001b[0m\u001b[0;34m\u001b[0m\u001b[0m\n",
      "\u001b[0;32m~/anaconda3/lib/python3.7/site-packages/sklearn/model_selection/_validation.py\u001b[0m in \u001b[0;36mcross_val_score\u001b[0;34m(estimator, X, y, groups, scoring, cv, n_jobs, verbose, fit_params, pre_dispatch, error_score)\u001b[0m\n\u001b[1;32m    388\u001b[0m                                 \u001b[0mfit_params\u001b[0m\u001b[0;34m=\u001b[0m\u001b[0mfit_params\u001b[0m\u001b[0;34m,\u001b[0m\u001b[0;34m\u001b[0m\u001b[0;34m\u001b[0m\u001b[0m\n\u001b[1;32m    389\u001b[0m                                 \u001b[0mpre_dispatch\u001b[0m\u001b[0;34m=\u001b[0m\u001b[0mpre_dispatch\u001b[0m\u001b[0;34m,\u001b[0m\u001b[0;34m\u001b[0m\u001b[0;34m\u001b[0m\u001b[0m\n\u001b[0;32m--> 390\u001b[0;31m                                 error_score=error_score)\n\u001b[0m\u001b[1;32m    391\u001b[0m     \u001b[0;32mreturn\u001b[0m \u001b[0mcv_results\u001b[0m\u001b[0;34m[\u001b[0m\u001b[0;34m'test_score'\u001b[0m\u001b[0;34m]\u001b[0m\u001b[0;34m\u001b[0m\u001b[0;34m\u001b[0m\u001b[0m\n\u001b[1;32m    392\u001b[0m \u001b[0;34m\u001b[0m\u001b[0m\n",
      "\u001b[0;32m~/anaconda3/lib/python3.7/site-packages/sklearn/model_selection/_validation.py\u001b[0m in \u001b[0;36mcross_validate\u001b[0;34m(estimator, X, y, groups, scoring, cv, n_jobs, verbose, fit_params, pre_dispatch, return_train_score, return_estimator, error_score)\u001b[0m\n\u001b[1;32m    219\u001b[0m \u001b[0;34m\u001b[0m\u001b[0m\n\u001b[1;32m    220\u001b[0m     \"\"\"\n\u001b[0;32m--> 221\u001b[0;31m     \u001b[0mX\u001b[0m\u001b[0;34m,\u001b[0m \u001b[0my\u001b[0m\u001b[0;34m,\u001b[0m \u001b[0mgroups\u001b[0m \u001b[0;34m=\u001b[0m \u001b[0mindexable\u001b[0m\u001b[0;34m(\u001b[0m\u001b[0mX\u001b[0m\u001b[0;34m,\u001b[0m \u001b[0my\u001b[0m\u001b[0;34m,\u001b[0m \u001b[0mgroups\u001b[0m\u001b[0;34m)\u001b[0m\u001b[0;34m\u001b[0m\u001b[0;34m\u001b[0m\u001b[0m\n\u001b[0m\u001b[1;32m    222\u001b[0m \u001b[0;34m\u001b[0m\u001b[0m\n\u001b[1;32m    223\u001b[0m     \u001b[0mcv\u001b[0m \u001b[0;34m=\u001b[0m \u001b[0mcheck_cv\u001b[0m\u001b[0;34m(\u001b[0m\u001b[0mcv\u001b[0m\u001b[0;34m,\u001b[0m \u001b[0my\u001b[0m\u001b[0;34m,\u001b[0m \u001b[0mclassifier\u001b[0m\u001b[0;34m=\u001b[0m\u001b[0mis_classifier\u001b[0m\u001b[0;34m(\u001b[0m\u001b[0mestimator\u001b[0m\u001b[0;34m)\u001b[0m\u001b[0;34m)\u001b[0m\u001b[0;34m\u001b[0m\u001b[0;34m\u001b[0m\u001b[0m\n",
      "\u001b[0;32m~/anaconda3/lib/python3.7/site-packages/sklearn/utils/validation.py\u001b[0m in \u001b[0;36mindexable\u001b[0;34m(*iterables)\u001b[0m\n\u001b[1;32m    246\u001b[0m     \"\"\"\n\u001b[1;32m    247\u001b[0m     \u001b[0mresult\u001b[0m \u001b[0;34m=\u001b[0m \u001b[0;34m[\u001b[0m\u001b[0m_make_indexable\u001b[0m\u001b[0;34m(\u001b[0m\u001b[0mX\u001b[0m\u001b[0;34m)\u001b[0m \u001b[0;32mfor\u001b[0m \u001b[0mX\u001b[0m \u001b[0;32min\u001b[0m \u001b[0miterables\u001b[0m\u001b[0;34m]\u001b[0m\u001b[0;34m\u001b[0m\u001b[0;34m\u001b[0m\u001b[0m\n\u001b[0;32m--> 248\u001b[0;31m     \u001b[0mcheck_consistent_length\u001b[0m\u001b[0;34m(\u001b[0m\u001b[0;34m*\u001b[0m\u001b[0mresult\u001b[0m\u001b[0;34m)\u001b[0m\u001b[0;34m\u001b[0m\u001b[0;34m\u001b[0m\u001b[0m\n\u001b[0m\u001b[1;32m    249\u001b[0m     \u001b[0;32mreturn\u001b[0m \u001b[0mresult\u001b[0m\u001b[0;34m\u001b[0m\u001b[0;34m\u001b[0m\u001b[0m\n\u001b[1;32m    250\u001b[0m \u001b[0;34m\u001b[0m\u001b[0m\n",
      "\u001b[0;32m~/anaconda3/lib/python3.7/site-packages/sklearn/utils/validation.py\u001b[0m in \u001b[0;36mcheck_consistent_length\u001b[0;34m(*arrays)\u001b[0m\n\u001b[1;32m    210\u001b[0m     \u001b[0;32mif\u001b[0m \u001b[0mlen\u001b[0m\u001b[0;34m(\u001b[0m\u001b[0muniques\u001b[0m\u001b[0;34m)\u001b[0m \u001b[0;34m>\u001b[0m \u001b[0;36m1\u001b[0m\u001b[0;34m:\u001b[0m\u001b[0;34m\u001b[0m\u001b[0;34m\u001b[0m\u001b[0m\n\u001b[1;32m    211\u001b[0m         raise ValueError(\"Found input variables with inconsistent numbers of\"\n\u001b[0;32m--> 212\u001b[0;31m                          \" samples: %r\" % [int(l) for l in lengths])\n\u001b[0m\u001b[1;32m    213\u001b[0m \u001b[0;34m\u001b[0m\u001b[0m\n\u001b[1;32m    214\u001b[0m \u001b[0;34m\u001b[0m\u001b[0m\n",
      "\u001b[0;31mValueError\u001b[0m: Found input variables with inconsistent numbers of samples: [11670, 10960]"
     ]
    }
   ],
   "source": [
    "contra_ = []; ipsi_ = []\n",
    "for _, subject_id_ in enumerate(subject_id):\n",
    "    if subject_id_ in subject_exclude:\n",
    "        continue\n",
    "\n",
    "    with open(out_path+'sub_'+subject_id_+'_patient_concat.json', 'r') as fp:\n",
    "        dict_ch = json.load(fp)\n",
    "    \n",
    "    print(subject_id_)\n",
    "\n",
    "    ECOG_ch = np.array([idx for idx, ch in enumerate(list(dict_ch.keys())) if ch.startswith('ECOG_') is True])\n",
    "    channels = list(dict_ch.keys())\n",
    "    start = 0\n",
    "    for idx_ch,_ in enumerate(ECOG_ch):\n",
    "        if start == 0:\n",
    "            dat_combine = np.array(dict_ch[channels[ECOG_ch[idx_ch]]]['data'])\n",
    "        else:\n",
    "            dat_combine = np.concatenate((dat_combine, np.array(dict_ch[channels[ECOG_ch[idx_ch]]]['data'])), axis=0)\n",
    "\n",
    "    \n",
    "    mov_ = np.array(dict_ch[channels[ECOG_ch[idx_ch]]]['true_movements'])\n",
    "    mov_ch = dict_ch[channels[ECOG_ch[idx_ch]]]['mov_ch']\n",
    "\n",
    "    for mov_idx in range(2):\n",
    "        if ('RIGHT' in mov_ch[mov_idx] and 'RIGHT' in channels[ECOG_ch[idx_ch]]) or \\\n",
    "           ('LEFT' in mov_ch[mov_idx] and 'LEFT' in channels[ECOG_ch[idx_ch]]): \n",
    "            ipsi_.append(np.mean(cross_val_score(linear_model.LinearRegression(), \\\n",
    "                                                 dat_combine.T, mov_[mov_idx,:], cv=5, scoring='r2', n_jobs=62)))\n",
    "\n",
    "        if ('RIGHT' in mov_ch[mov_idx] and 'LEFT' in channels[ECOG_ch[idx_ch]]) or \\\n",
    "           ('LEFT' in mov_ch[mov_idx] and 'RIGHT' in channels[ECOG_ch[idx_ch]]): \n",
    "            contra_.append(np.mean(cross_val_score(linear_model.LinearRegression(), \\\n",
    "                                                    dat_combine.T, mov_[mov_idx,:], cv=5, scoring='r2', n_jobs=62)))\n",
    "\n"
   ]
  },
  {
   "cell_type": "code",
   "execution_count": 75,
   "metadata": {},
   "outputs": [
    {
     "data": {
      "text/plain": [
       "[0.12435731951266593,\n",
       " 0.12435731951266593,\n",
       " 0.12435731951266593,\n",
       " 0.12435731951266593,\n",
       " 0.12435731951266593,\n",
       " 0.12435731951266593]"
      ]
     },
     "execution_count": 75,
     "metadata": {},
     "output_type": "execute_result"
    }
   ],
   "source": [
    "ipsi_"
   ]
  },
  {
   "cell_type": "code",
   "execution_count": 76,
   "metadata": {},
   "outputs": [
    {
     "data": {
      "text/plain": [
       "[0.4930855951776335,\n",
       " 0.4930855951776335,\n",
       " 0.4930855951776335,\n",
       " 0.4930855951776335,\n",
       " 0.4930855951776335,\n",
       " 0.4930855951776335]"
      ]
     },
     "execution_count": 76,
     "metadata": {},
     "output_type": "execute_result"
    }
   ],
   "source": [
    "contra_"
   ]
  },
  {
   "cell_type": "code",
   "execution_count": 72,
   "metadata": {},
   "outputs": [
    {
     "data": {
      "text/plain": [
       "array([ 0,  1,  2,  3,  4,  5,  6,  7,  8,  9, 10, 11, 12, 13, 14, 15, 16,\n",
       "       17, 18, 19, 20, 21, 22, 23, 24, 25, 26, 27, 32, 33, 34, 35, 36, 37,\n",
       "       38, 39, 40, 41, 42, 43, 44, 45, 46, 47, 48, 49, 50, 51, 52, 53, 54,\n",
       "       55, 56, 57, 58, 59])"
      ]
     },
     "execution_count": 72,
     "metadata": {},
     "output_type": "execute_result"
    }
   ],
   "source": [
    "ECOG_ch"
   ]
  },
  {
   "cell_type": "code",
   "execution_count": 73,
   "metadata": {},
   "outputs": [
    {
     "data": {
      "text/plain": [
       "['ECOG_RIGHT_0',\n",
       " 'ECOG_RIGHT_1',\n",
       " 'ECOG_RIGHT_2',\n",
       " 'ECOG_RIGHT_3',\n",
       " 'ECOG_RIGHT_4',\n",
       " 'ECOG_RIGHT_5',\n",
       " 'ECOG_RIGHT_6',\n",
       " 'ECOG_RIGHT_7',\n",
       " 'ECOG_RIGHT_8',\n",
       " 'ECOG_RIGHT_9',\n",
       " 'ECOG_RIGHT_10',\n",
       " 'ECOG_RIGHT_11',\n",
       " 'ECOG_RIGHT_12',\n",
       " 'ECOG_RIGHT_13',\n",
       " 'ECOG_RIGHT_14',\n",
       " 'ECOG_RIGHT_15',\n",
       " 'ECOG_RIGHT_16',\n",
       " 'ECOG_RIGHT_17',\n",
       " 'ECOG_RIGHT_18',\n",
       " 'ECOG_RIGHT_19',\n",
       " 'ECOG_RIGHT_20',\n",
       " 'ECOG_RIGHT_21',\n",
       " 'ECOG_RIGHT_22',\n",
       " 'ECOG_RIGHT_23',\n",
       " 'ECOG_RIGHT_24',\n",
       " 'ECOG_RIGHT_25',\n",
       " 'ECOG_RIGHT_26',\n",
       " 'ECOG_RIGHT_27',\n",
       " 'STN_RIGHT_0',\n",
       " 'STN_RIGHT_1',\n",
       " 'STN_RIGHT_2',\n",
       " 'STN_RIGHT_3',\n",
       " 'ECOG_LEFT_0',\n",
       " 'ECOG_LEFT_1',\n",
       " 'ECOG_LEFT_2',\n",
       " 'ECOG_LEFT_3',\n",
       " 'ECOG_LEFT_4',\n",
       " 'ECOG_LEFT_5',\n",
       " 'ECOG_LEFT_6',\n",
       " 'ECOG_LEFT_7',\n",
       " 'ECOG_LEFT_8',\n",
       " 'ECOG_LEFT_9',\n",
       " 'ECOG_LEFT_10',\n",
       " 'ECOG_LEFT_11',\n",
       " 'ECOG_LEFT_12',\n",
       " 'ECOG_LEFT_13',\n",
       " 'ECOG_LEFT_14',\n",
       " 'ECOG_LEFT_15',\n",
       " 'ECOG_LEFT_16',\n",
       " 'ECOG_LEFT_17',\n",
       " 'ECOG_LEFT_18',\n",
       " 'ECOG_LEFT_19',\n",
       " 'ECOG_LEFT_20',\n",
       " 'ECOG_LEFT_21',\n",
       " 'ECOG_LEFT_22',\n",
       " 'ECOG_LEFT_23',\n",
       " 'ECOG_LEFT_24',\n",
       " 'ECOG_LEFT_25',\n",
       " 'ECOG_LEFT_26',\n",
       " 'ECOG_LEFT_27',\n",
       " 'STN_LEFT_0',\n",
       " 'STN_LEFT_1',\n",
       " 'STN_LEFT_2',\n",
       " 'STN_LEFT_3']"
      ]
     },
     "execution_count": 73,
     "metadata": {},
     "output_type": "execute_result"
    }
   ],
   "source": [
    "channels"
   ]
  },
  {
   "cell_type": "code",
   "execution_count": 54,
   "metadata": {},
   "outputs": [],
   "source": [
    "mov_ = np.array(dict_ch['ECOG_RIGHT_0']['true_movements'])\n"
   ]
  },
  {
   "cell_type": "code",
   "execution_count": 55,
   "metadata": {},
   "outputs": [
    {
     "data": {
      "text/plain": [
       "(2, 7570)"
      ]
     },
     "execution_count": 55,
     "metadata": {},
     "output_type": "execute_result"
    }
   ],
   "source": [
    "mov_.shape"
   ]
  },
  {
   "cell_type": "code",
   "execution_count": null,
   "metadata": {},
   "outputs": [],
   "source": []
  },
  {
   "cell_type": "code",
   "execution_count": null,
   "metadata": {},
   "outputs": [],
   "source": []
  },
  {
   "cell_type": "code",
   "execution_count": null,
   "metadata": {},
   "outputs": [],
   "source": []
  },
  {
   "cell_type": "code",
   "execution_count": null,
   "metadata": {},
   "outputs": [],
   "source": []
  }
 ],
 "metadata": {
  "kernelspec": {
   "display_name": "Python 3",
   "language": "python",
   "name": "python3"
  },
  "language_info": {
   "codemirror_mode": {
    "name": "ipython",
    "version": 3
   },
   "file_extension": ".py",
   "mimetype": "text/x-python",
   "name": "python",
   "nbconvert_exporter": "python",
   "pygments_lexer": "ipython3",
   "version": "3.7.6"
  }
 },
 "nbformat": 4,
 "nbformat_minor": 4
}
